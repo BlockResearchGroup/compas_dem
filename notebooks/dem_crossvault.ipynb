{
 "cells": [
  {
   "cell_type": "markdown",
   "metadata": {},
   "source": [
    "# DEM of a Cross Vault"
   ]
  },
  {
   "cell_type": "markdown",
   "metadata": {},
   "source": [
    "## Block Data"
   ]
  },
  {
   "cell_type": "code",
   "execution_count": 5,
   "metadata": {},
   "outputs": [],
   "source": [
    "import pathlib\n",
    "\n",
    "from compas.files import OBJ\n",
    "\n",
    "FILE = pathlib.Path.cwd().parent / \"data\" / \"crossvault.obj\"\n",
    "\n",
    "obj = OBJ(FILE)\n",
    "obj.read()"
   ]
  },
  {
   "cell_type": "markdown",
   "metadata": {},
   "source": [
    "## Block Meshes"
   ]
  },
  {
   "cell_type": "code",
   "execution_count": 6,
   "metadata": {},
   "outputs": [],
   "source": [
    "from compas.datastructures import Mesh\n",
    "\n",
    "meshes = []\n",
    "for name in obj.objects:\n",
    "    vertices, faces = obj.objects[name]\n",
    "    mesh: Mesh = Mesh.from_vertices_and_faces(vertices, faces)\n",
    "    mesh.scale(0.025, 0.025, 0.025)\n",
    "    mesh.name = name\n",
    "    meshes.append(mesh)"
   ]
  },
  {
   "cell_type": "markdown",
   "metadata": {},
   "source": [
    "## Block Model"
   ]
  },
  {
   "cell_type": "code",
   "execution_count": 7,
   "metadata": {},
   "outputs": [],
   "source": [
    "from compas_dem.models import BlockModel\n",
    "\n",
    "model = BlockModel.from_boxes(meshes)"
   ]
  },
  {
   "cell_type": "markdown",
   "metadata": {},
   "source": [
    "## Contacts"
   ]
  },
  {
   "cell_type": "code",
   "execution_count": 8,
   "metadata": {},
   "outputs": [],
   "source": [
    "model.compute_contacts(tolerance=1e-3, minimum_area=1e-2)"
   ]
  },
  {
   "cell_type": "markdown",
   "metadata": {},
   "source": [
    "## Supports"
   ]
  },
  {
   "cell_type": "code",
   "execution_count": 9,
   "metadata": {},
   "outputs": [],
   "source": [
    "from compas_dem.elements import BlockElement\n",
    "\n",
    "element: BlockElement\n",
    "\n",
    "for element in model.elements():\n",
    "    if model.graph.degree(element.graphnode) == 1:\n",
    "        element.is_support = True"
   ]
  },
  {
   "cell_type": "markdown",
   "metadata": {},
   "source": [
    "## Visualisation"
   ]
  },
  {
   "cell_type": "code",
   "execution_count": null,
   "metadata": {},
   "outputs": [],
   "source": [
    "from compas_notebook import Viewer\n",
    "\n",
    "viewer = Viewer()\n",
    "viewer.scene.add(model)\n",
    "viewer.show()\n",
    "\n",
    "viewer.camera3.position = [0, -13, 3]\n",
    "viewer.camera3.lookAt([0, 0, 3])"
   ]
  }
 ],
 "metadata": {
  "kernelspec": {
   "display_name": "masonry",
   "language": "python",
   "name": "python3"
  },
  "language_info": {
   "codemirror_mode": {
    "name": "ipython",
    "version": 3
   },
   "file_extension": ".py",
   "mimetype": "text/x-python",
   "name": "python",
   "nbconvert_exporter": "python",
   "pygments_lexer": "ipython3",
   "version": "3.10.14"
  }
 },
 "nbformat": 4,
 "nbformat_minor": 2
}
