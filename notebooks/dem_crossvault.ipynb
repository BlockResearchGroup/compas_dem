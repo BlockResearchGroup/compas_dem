{
 "cells": [
  {
   "cell_type": "code",
   "execution_count": null,
   "metadata": {},
   "outputs": [],
   "source": [
    "import pathlib\n",
    "\n",
    "from compas.datastructures import Mesh\n",
    "from compas.files import OBJ\n",
    "\n",
    "# =============================================================================\n",
    "# Data\n",
    "# =============================================================================\n",
    "\n",
    "FILE = pathlib.Path().cwd().parent / \"data\" / \"crossvault.obj\"\n",
    "\n",
    "obj = OBJ(FILE)\n",
    "obj.read()\n",
    "\n",
    "meshes = []\n",
    "for name in obj.objects:\n",
    "    vertices, faces = obj.objects[name]\n",
    "    mesh: Mesh = Mesh.from_vertices_and_faces(vertices, faces)\n",
    "    mesh.scale(0.025, 0.025, 0.025)\n",
    "    mesh.name = name\n",
    "    meshes.append(mesh)\n"
   ]
  },
  {
   "cell_type": "code",
   "execution_count": null,
   "metadata": {},
   "outputs": [],
   "source": [
    "from compas_dem.elements import BlockElement\n",
    "from compas_dem.models import BlockModel\n",
    "\n",
    "model = BlockModel.from_boxes(meshes)"
   ]
  },
  {
   "cell_type": "code",
   "execution_count": null,
   "metadata": {},
   "outputs": [],
   "source": [
    "model.compute_contacts(tolerance=1e-3, minimum_area=1e-2)\n",
    "\n",
    "element: BlockElement\n",
    "\n",
    "for element in model.elements():\n",
    "    if model.graph.degree(element.graphnode) == 1:\n",
    "        element.is_support = True"
   ]
  },
  {
   "cell_type": "code",
   "execution_count": null,
   "metadata": {},
   "outputs": [],
   "source": [
    "from compas.colors import Color\n",
    "from compas_notebook import Viewer\n",
    "\n",
    "color_support = Color.red()\n",
    "color_contact = Color.green()\n",
    "\n",
    "viewer = Viewer()\n",
    "\n",
    "for element in model.supports():\n",
    "    viewer.scene.add(\n",
    "        element.modelgeometry,\n",
    "        show_faces=True,\n",
    "        show_edges=True,\n",
    "        facecolor=color_support,\n",
    "        edgecolor=color_support.contrast,\n",
    "    )\n",
    "\n",
    "for element in model.blocks():\n",
    "    viewer.scene.add(\n",
    "        element.modelgeometry,\n",
    "        show_faces=False,\n",
    "        show_edges=True,\n",
    "        facecolor=None,\n",
    "        edgecolor=Color.black()\n",
    ")\n",
    "\n",
    "for contact in model.contacts():\n",
    "    viewer.scene.add(\n",
    "        contact.polygon,\n",
    "        facecolor=color_contact,\n",
    "        linecolor=color_contact.contrast,\n",
    "        show_edges=False,\n",
    "    )\n",
    "\n",
    "viewer.show()"
   ]
  }
 ],
 "metadata": {
  "kernelspec": {
   "display_name": "masonry",
   "language": "python",
   "name": "python3"
  },
  "language_info": {
   "codemirror_mode": {
    "name": "ipython",
    "version": 3
   },
   "file_extension": ".py",
   "mimetype": "text/x-python",
   "name": "python",
   "nbconvert_exporter": "python",
   "pygments_lexer": "ipython3",
   "version": "3.10.14"
  }
 },
 "nbformat": 4,
 "nbformat_minor": 2
}
