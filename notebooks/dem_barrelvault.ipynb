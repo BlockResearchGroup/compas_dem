{
 "cells": [
  {
   "cell_type": "markdown",
   "metadata": {},
   "source": [
    "# DEM of a Barrel Vault"
   ]
  },
  {
   "cell_type": "markdown",
   "metadata": {},
   "source": [
    "## Block Model from a Barrel Vault Template"
   ]
  },
  {
   "cell_type": "code",
   "execution_count": 1,
   "metadata": {},
   "outputs": [],
   "source": [
    "from compas_dem.models import BlockModel\n",
    "from compas_dem.templates import BarrelVaultTemplate\n",
    "\n",
    "template = BarrelVaultTemplate()\n",
    "model = BlockModel.from_barrelvault(template)"
   ]
  },
  {
   "cell_type": "markdown",
   "metadata": {},
   "source": [
    "## Contacts and Supports"
   ]
  },
  {
   "cell_type": "code",
   "execution_count": 2,
   "metadata": {},
   "outputs": [],
   "source": [
    "model.compute_contacts()"
   ]
  },
  {
   "cell_type": "markdown",
   "metadata": {},
   "source": [
    "## Visualisation"
   ]
  },
  {
   "cell_type": "code",
   "execution_count": 3,
   "metadata": {},
   "outputs": [
    {
     "data": {
      "application/vnd.jupyter.widget-view+json": {
       "model_id": "2e2749041fa8464189f51416604aa75b",
       "version_major": 2,
       "version_minor": 0
      },
      "text/plain": [
       "VBox(children=(HBox(children=(Button(icon='search-plus', layout=Layout(height='32px', width='48px'), style=But…"
      ]
     },
     "metadata": {},
     "output_type": "display_data"
    }
   ],
   "source": [
    "from compas.colors import Color\n",
    "from compas_notebook import Viewer\n",
    "\n",
    "viewer = Viewer()\n",
    "\n",
    "for element in model.elements():\n",
    "    viewer.scene.add(\n",
    "        element.modelgeometry,\n",
    "        show_faces=True if element.is_support else False,\n",
    "        show_edges=True,\n",
    "        facecolor=Color.red() if element.is_support else None,\n",
    "        edgecolor=Color.black()\n",
    "    )\n",
    "\n",
    "for contact in model.contacts():\n",
    "    viewer.scene.add(contact.polygon, color=Color.cyan())\n",
    "\n",
    "viewer.show()"
   ]
  }
 ],
 "metadata": {
  "kernelspec": {
   "display_name": "masonry",
   "language": "python",
   "name": "python3"
  },
  "language_info": {
   "codemirror_mode": {
    "name": "ipython",
    "version": 3
   },
   "file_extension": ".py",
   "mimetype": "text/x-python",
   "name": "python",
   "nbconvert_exporter": "python",
   "pygments_lexer": "ipython3",
   "version": "3.10.14"
  }
 },
 "nbformat": 4,
 "nbformat_minor": 2
}
