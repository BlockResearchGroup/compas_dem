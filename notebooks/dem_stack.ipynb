{
 "cells": [
  {
   "cell_type": "markdown",
   "metadata": {},
   "source": [
    "# DEM of a Stack of Blocks"
   ]
  },
  {
   "cell_type": "markdown",
   "metadata": {},
   "source": [
    "## Add blocks to a model"
   ]
  },
  {
   "cell_type": "markdown",
   "metadata": {},
   "source": [
    "First we create a base block geometry using a simple box."
   ]
  },
  {
   "cell_type": "code",
   "execution_count": 1,
   "metadata": {},
   "outputs": [],
   "source": [
    "from compas.geometry import Box\n",
    "\n",
    "box = Box(xsize=1, ysize=1, zsize=1)"
   ]
  },
  {
   "cell_type": "markdown",
   "metadata": {},
   "source": [
    "We will add 10 blocks to a block model using the box as base geometry.\n",
    "In addition, we will add a random rotation and a random translation to each block to create an irregular stack."
   ]
  },
  {
   "cell_type": "code",
   "execution_count": 2,
   "metadata": {},
   "outputs": [],
   "source": [
    "import math\n",
    "import random\n",
    "\n",
    "from compas.geometry import Rotation\n",
    "from compas.geometry import Translation\n",
    "\n",
    "from compas_dem.elements import Block\n",
    "from compas_dem.models import BlockModel\n",
    "\n",
    "model = BlockModel()\n",
    "\n",
    "for i in range(10):\n",
    "    T = Translation.from_vector([\n",
    "        random.choice([-0.1, 0.1]) * random.random(),\n",
    "        random.choice([-0.1, 0.1]) * random.random(),\n",
    "        i * box.zsize,\n",
    "    ])\n",
    "    R = Rotation.from_axis_and_angle(\n",
    "        axis=[0, 0, 1],\n",
    "        angle=math.radians(random.choice([-5, +5])),\n",
    "    )\n",
    "\n",
    "    block = Block.from_box(box)\n",
    "    block.transformation = T * R\n",
    "\n",
    "    model.add_element(block)"
   ]
  },
  {
   "cell_type": "markdown",
   "metadata": {},
   "source": [
    "## Compute the interfaces between the blocks\n",
    "\n",
    "In a stack like this, each block can have at most two interfaces.\n",
    "Therefore, we limit the number of neighbours that should be considered for calculating contact interfaces for each block to two (`k=2`)."
   ]
  },
  {
   "cell_type": "code",
   "execution_count": 3,
   "metadata": {},
   "outputs": [],
   "source": [
    "model.compute_contacts()"
   ]
  },
  {
   "cell_type": "markdown",
   "metadata": {},
   "source": [
    "## Identify the Support\n",
    "\n",
    "We identify the support block as the block with the reference point (i.e. the centroid of its geometry) with the lowest z-coordinate."
   ]
  },
  {
   "cell_type": "code",
   "execution_count": 4,
   "metadata": {},
   "outputs": [],
   "source": [
    "block: Block = sorted(model.elements(), key=lambda e: e.point.z)[0]\n",
    "block.is_support = True"
   ]
  },
  {
   "cell_type": "markdown",
   "metadata": {},
   "source": [
    "## Visualize the result"
   ]
  },
  {
   "cell_type": "code",
   "execution_count": 5,
   "metadata": {},
   "outputs": [
    {
     "data": {
      "application/vnd.jupyter.widget-view+json": {
       "model_id": "9637f677cb9e45b7af53e537bda75ce6",
       "version_major": 2,
       "version_minor": 0
      },
      "text/plain": [
       "VBox(children=(HBox(children=(Button(icon='search-plus', layout=Layout(height='32px', width='48px'), style=But…"
      ]
     },
     "metadata": {},
     "output_type": "display_data"
    }
   ],
   "source": [
    "from compas_notebook import Viewer\n",
    "\n",
    "viewer = Viewer()\n",
    "viewer.scene.add(model)\n",
    "viewer.show()\n",
    "\n",
    "viewer.camera3.position = [-10, -10, 7]\n",
    "viewer.camera3.lookAt([0, 0, 5])\n"
   ]
  }
 ],
 "metadata": {
  "kernelspec": {
   "display_name": "masonry",
   "language": "python",
   "name": "python3"
  },
  "language_info": {
   "codemirror_mode": {
    "name": "ipython",
    "version": 3
   },
   "file_extension": ".py",
   "mimetype": "text/x-python",
   "name": "python",
   "nbconvert_exporter": "python",
   "pygments_lexer": "ipython3",
   "version": "3.10.14"
  }
 },
 "nbformat": 4,
 "nbformat_minor": 2
}
