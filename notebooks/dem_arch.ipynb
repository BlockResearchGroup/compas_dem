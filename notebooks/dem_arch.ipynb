{
 "cells": [
  {
   "cell_type": "markdown",
   "metadata": {},
   "source": [
    "# DEM of a Semi-circular Arch"
   ]
  },
  {
   "cell_type": "markdown",
   "metadata": {},
   "source": [
    "## Block Model from Arch Template"
   ]
  },
  {
   "cell_type": "code",
   "execution_count": 20,
   "metadata": {},
   "outputs": [],
   "source": [
    "from compas_dem.models import BlockModel\n",
    "from compas_dem.templates import ArchTemplate\n",
    "\n",
    "template = ArchTemplate(rise=3, span=10, thickness=0.3, depth=0.5, n=30)\n",
    "\n",
    "model = BlockModel.from_template(template)"
   ]
  },
  {
   "cell_type": "markdown",
   "metadata": {},
   "source": [
    "## Contacts and Supports"
   ]
  },
  {
   "cell_type": "markdown",
   "metadata": {},
   "source": [
    "In an arch, every block can have at most two contacts."
   ]
  },
  {
   "cell_type": "code",
   "execution_count": 21,
   "metadata": {},
   "outputs": [],
   "source": [
    "model.compute_contacts(k=2)"
   ]
  },
  {
   "cell_type": "markdown",
   "metadata": {},
   "source": [
    "The nodes with only one contact are the supports at the ends of the arch."
   ]
  },
  {
   "cell_type": "code",
   "execution_count": 22,
   "metadata": {},
   "outputs": [],
   "source": [
    "from compas_dem.elements import BlockElement\n",
    "\n",
    "element: BlockElement\n",
    "\n",
    "for element in model.elements():\n",
    "    if model.graph.degree(element.graphnode) == 1:\n",
    "        element.is_support = True"
   ]
  },
  {
   "cell_type": "markdown",
   "metadata": {},
   "source": [
    "## Visualisation"
   ]
  },
  {
   "cell_type": "code",
   "execution_count": 23,
   "metadata": {},
   "outputs": [
    {
     "data": {
      "application/vnd.jupyter.widget-view+json": {
       "model_id": "d6c18ea737fa4d3e95d09cd82e86f1ea",
       "version_major": 2,
       "version_minor": 0
      },
      "text/plain": [
       "VBox(children=(HBox(children=(Button(icon='search-plus', layout=Layout(height='32px', width='48px'), style=But…"
      ]
     },
     "metadata": {},
     "output_type": "display_data"
    }
   ],
   "source": [
    "from compas.colors import Color\n",
    "from compas_notebook import Viewer\n",
    "\n",
    "viewer = Viewer()\n",
    "\n",
    "for element in model.elements():\n",
    "    viewer.scene.add(\n",
    "        element.modelgeometry,\n",
    "        show_faces=True if element.is_support else False,\n",
    "        show_edges=True,\n",
    "        facecolor=Color.red() if element.is_support else None,\n",
    "        edgecolor=Color.black()\n",
    "    )\n",
    "\n",
    "for contact in model.contacts():\n",
    "    viewer.scene.add(contact.polygon, color=Color.cyan())\n",
    "\n",
    "viewer.show()\n",
    "\n",
    "viewer.camera3.position = [-3, -7, 5]\n",
    "viewer.camera3.lookAt([0, 0, 1])"
   ]
  }
 ],
 "metadata": {
  "kernelspec": {
   "display_name": "masonry",
   "language": "python",
   "name": "python3"
  },
  "language_info": {
   "codemirror_mode": {
    "name": "ipython",
    "version": 3
   },
   "file_extension": ".py",
   "mimetype": "text/x-python",
   "name": "python",
   "nbconvert_exporter": "python",
   "pygments_lexer": "ipython3",
   "version": "3.10.14"
  }
 },
 "nbformat": 4,
 "nbformat_minor": 2
}
